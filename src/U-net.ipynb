{
 "cells": [
  {
   "cell_type": "markdown",
   "id": "2ee11c20",
   "metadata": {},
   "source": [
    "# Laboratorio 03\n",
    "## U-net y filtros anisotrópicos\n",
    "- Ricardo Mendez 21289\n",
    "- Sara Echeverría 21371\n",
    "- Melissa Pérez 21385\n",
    "Repositorio: https://github.com/MelissaPerez09/Lab04-CC3102"
   ]
  },
  {
   "cell_type": "markdown",
   "id": "f7440d0e",
   "metadata": {},
   "source": []
  }
 ],
 "metadata": {
  "language_info": {
   "name": "python"
  }
 },
 "nbformat": 4,
 "nbformat_minor": 5
}
